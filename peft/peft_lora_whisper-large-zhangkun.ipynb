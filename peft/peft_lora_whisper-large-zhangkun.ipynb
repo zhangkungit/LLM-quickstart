{
 "cells": [
  {
   "cell_type": "code",
   "execution_count": 10,
   "id": "7fee65c9-18ce-47f1-a3ad-377a07e192b4",
   "metadata": {},
   "outputs": [],
   "source": [
    "# language = \"Chinese (China)\"\n",
    "# language_abbr = \"zh-CN\"\n",
    "#德语\n",
    "language = \"German (Germany)\"\n",
    "language_abbr = \"de\"\n",
    "#法语\n",
    "# language = \"French (France)\"\n",
    "# language_abbr = \"fr\"\n",
    "\n",
    "task = \"transcribe\"\n",
    "dataset_name = \"mozilla-foundation/common_voice_11_0\""
   ]
  },
  {
   "cell_type": "code",
   "execution_count": 11,
   "id": "13271ed8-24fb-4ff3-a743-d08a24224257",
   "metadata": {},
   "outputs": [
    {
     "name": "stderr",
     "output_type": "stream",
     "text": [
      "Downloading data: 100%|██████████| 1.72G/1.72G [03:31<00:00, 8.15MB/s] \n",
      "Downloading data: 100%|██████████| 1.68G/1.68G [03:37<00:00, 7.70MB/s] \n",
      "Downloading data: 100%|██████████| 1.65G/1.65G [02:18<00:00, 11.9MB/s] \n",
      "Downloading data: 100%|██████████| 1.57G/1.57G [02:15<00:00, 11.6MB/s] \n",
      "Downloading data: 100%|██████████| 1.60G/1.60G [02:14<00:00, 11.9MB/s]  \n",
      "Downloading data: 100%|██████████| 1.55G/1.55G [02:18<00:00, 11.2MB/s] \n",
      "Downloading data: 100%|██████████| 1.66G/1.66G [02:24<00:00, 11.4MB/s] \n",
      "Downloading data: 100%|██████████| 1.59G/1.59G [02:21<00:00, 11.2MB/s] \n",
      "Downloading data: 100%|██████████| 1.53G/1.53G [05:41<00:00, 4.48MB/s] \n",
      "Downloading data: 100%|██████████| 1.58G/1.58G [02:12<00:00, 11.9MB/s] \n",
      "Downloading data: 100%|██████████| 1.83G/1.83G [02:38<00:00, 11.6MB/s] \n",
      "Downloading data: 100%|██████████| 1.85G/1.85G [02:44<00:00, 11.2MB/s] \n",
      "Downloading data: 100%|██████████| 718M/718M [01:03<00:00, 11.3MB/s]  \n",
      "Downloading data: 100%|██████████| 726M/726M [01:04<00:00, 11.3MB/s]  \n",
      "Downloading data: 100%|██████████| 182M/182M [00:16<00:00, 11.2MB/s] \n",
      "Downloading data: 100%|██████████| 1.73G/1.73G [02:32<00:00, 11.4MB/s] \n",
      "Downloading data: 100%|██████████| 307M/307M [00:29<00:00, 10.5MB/s] \n",
      "Downloading data: 100%|██████████| 127M/127M [00:10<00:00, 12.1MB/s] \n",
      "Downloading data: 100%|██████████| 3.87M/3.87M [00:03<00:00, 1.06MB/s]\n",
      "Downloading data: 100%|██████████| 3.83M/3.83M [00:01<00:00, 3.49MB/s]\n",
      "Downloading data: 100%|██████████| 1.40M/1.40M [00:00<00:00, 1.64MB/s]\n",
      "Downloading data: 100%|██████████| 12.2M/12.2M [00:01<00:00, 7.98MB/s]\n",
      "Generating train split: 0 examples [00:00, ? examples/s]\n",
      "Reading metadata...: 0it [00:00, ?it/s]\u001b[A\n",
      "Reading metadata...: 12441it [00:00, 124391.43it/s]\u001b[A\n",
      "Reading metadata...: 24881it [00:00, 120419.90it/s]\u001b[A\n",
      "Reading metadata...: 38037it [00:00, 125413.97it/s]\u001b[A\n",
      "Reading metadata...: 56533it [00:00, 148665.73it/s]\u001b[A\n",
      "Reading metadata...: 75188it [00:00, 162226.62it/s]\u001b[A\n",
      "Reading metadata...: 93194it [00:00, 168258.70it/s]\u001b[A\n",
      "Reading metadata...: 111732it [00:00, 173835.95it/s]\u001b[A\n",
      "Reading metadata...: 130065it [00:00, 176848.51it/s]\u001b[A\n",
      "Reading metadata...: 148398it [00:00, 178867.77it/s]\u001b[A\n",
      "Reading metadata...: 166294it [00:01, 178807.39it/s]\u001b[A\n",
      "Reading metadata...: 184181it [00:01, 174712.83it/s]\u001b[A\n",
      "Reading metadata...: 202410it [00:01, 176972.02it/s]\u001b[A\n",
      "Reading metadata...: 220233it [00:01, 177346.24it/s]\u001b[A\n",
      "Reading metadata...: 238191it [00:01, 178011.45it/s]\u001b[A\n",
      "Reading metadata...: 256004it [00:01, 177530.53it/s]\u001b[A\n",
      "Reading metadata...: 274654it [00:01, 180210.95it/s]\u001b[A\n",
      "Reading metadata...: 292795it [00:01, 180565.76it/s]\u001b[A\n",
      "Reading metadata...: 310857it [00:01, 180278.43it/s]\u001b[A\n",
      "Reading metadata...: 328889it [00:01, 180239.08it/s]\u001b[A\n",
      "Reading metadata...: 347176it [00:02, 181024.09it/s]\u001b[A\n",
      "Reading metadata...: 365281it [00:02, 174197.85it/s]\u001b[A\n",
      "Reading metadata...: 383638it [00:02, 176928.98it/s]\u001b[A\n",
      "Reading metadata...: 401401it [00:02, 177131.89it/s]\u001b[A\n",
      "Reading metadata...: 419754it [00:02, 179022.01it/s]\u001b[A\n",
      "Reading metadata...: 437683it [00:02, 176783.03it/s]\u001b[A\n",
      "Reading metadata...: 455384it [00:02, 173581.78it/s]\u001b[A\n",
      "Reading metadata...: 479008it [00:02, 172276.83it/s]\u001b[A\n",
      "Generating train split: 479008 examples [02:09, 3687.69 examples/s]\n",
      "Generating validation split: 0 examples [00:00, ? examples/s]\n",
      "Reading metadata...: 16082it [00:00, 209748.46it/s]\n",
      "Generating validation split: 16082 examples [00:02, 5767.39 examples/s]\n",
      "Generating test split: 0 examples [00:00, ? examples/s]\n",
      "Reading metadata...: 16082it [00:00, 217824.36it/s]\n",
      "Generating test split: 16082 examples [00:02, 5650.82 examples/s]\n",
      "Generating other split: 0 examples [00:00, ? examples/s]\n",
      "Reading metadata...: 5329it [00:00, 204713.57it/s]\n",
      "Generating other split: 5329 examples [00:00, 6186.03 examples/s]\n",
      "Generating invalidated split: 0 examples [00:00, ? examples/s]\n",
      "Reading metadata...: 0it [00:00, ?it/s]\u001b[A\n",
      "Reading metadata...: 21119it [00:00, 211181.14it/s]\u001b[A\n",
      "Reading metadata...: 47953it [00:00, 204622.57it/s]\u001b[A\n",
      "Generating invalidated split: 47953 examples [00:08, 5925.66 examples/s]\n"
     ]
    },
    {
     "data": {
      "text/plain": [
       "{'client_id': '76f387ba64e0573bb44ee811dbf188dd4c709b4d381037918df4e92f1c15b4d2facd3364a1e7637570a4c3f070bce59c343c3c02cea1d0961a2a1a2f07a83855',\n",
       " 'path': '/home/ubuntu/.cache/huggingface/datasets/downloads/extracted/e76b6ae3c3393d1b767bd4b11b0474d1492824e54a628f677acab8bd804eb3b7/de_train_0/common_voice_de_17545785.mp3',\n",
       " 'audio': {'path': '/home/ubuntu/.cache/huggingface/datasets/downloads/extracted/e76b6ae3c3393d1b767bd4b11b0474d1492824e54a628f677acab8bd804eb3b7/de_train_0/common_voice_de_17545785.mp3',\n",
       "  'array': array([ 0.00000000e+00,  1.24747984e-15,  5.81673830e-16, ...,\n",
       "         -2.68243544e-12,  4.79715642e-11,  5.84051973e-11]),\n",
       "  'sampling_rate': 48000},\n",
       " 'sentence': 'Wo ist denn die Fernbedienung?',\n",
       " 'up_votes': 2,\n",
       " 'down_votes': 0,\n",
       " 'age': 'thirties',\n",
       " 'gender': 'male',\n",
       " 'accent': 'Deutschland Deutsch',\n",
       " 'locale': 'de',\n",
       " 'segment': ''}"
      ]
     },
     "execution_count": 11,
     "metadata": {},
     "output_type": "execute_result"
    }
   ],
   "source": [
    "from datasets import load_dataset, DatasetDict\n",
    "common_voice = DatasetDict()\n",
    "\n",
    "common_voice[\"train\"] = load_dataset(dataset_name, language_abbr, split=\"train\", trust_remote_code=True)\n",
    "common_voice[\"validation\"] = load_dataset(dataset_name, language_abbr, split=\"validation\", trust_remote_code=True)\n",
    "\n",
    "common_voice[\"train\"][0]"
   ]
  },
  {
   "cell_type": "code",
   "execution_count": null,
   "id": "e23c665e-1bff-453b-96e7-49806a0fe833",
   "metadata": {},
   "outputs": [],
   "source": []
  }
 ],
 "metadata": {
  "kernelspec": {
   "display_name": "Python 3 (ipykernel)",
   "language": "python",
   "name": "python3"
  },
  "language_info": {
   "codemirror_mode": {
    "name": "ipython",
    "version": 3
   },
   "file_extension": ".py",
   "mimetype": "text/x-python",
   "name": "python",
   "nbconvert_exporter": "python",
   "pygments_lexer": "ipython3",
   "version": "3.11.9"
  }
 },
 "nbformat": 4,
 "nbformat_minor": 5
}
