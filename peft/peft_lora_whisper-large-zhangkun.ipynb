{
 "cells": [
  {
   "cell_type": "code",
   "execution_count": 1,
   "id": "7fee65c9-18ce-47f1-a3ad-377a07e192b4",
   "metadata": {},
   "outputs": [],
   "source": [
    "# language = \"Chinese (China)\"\n",
    "# language_abbr = \"zh-CN\"\n",
    "#德语\n",
    "language = \"German (Germany)\"\n",
    "language_abbr = \"de\"\n",
    "#法语\n",
    "# language = \"French (France)\"\n",
    "# language_abbr = \"fr\"\n",
    "\n",
    "task = \"transcribe\"\n",
    "dataset_name = \"mozilla-foundation/common_voice_11_0\""
   ]
  },
  {
   "cell_type": "code",
   "execution_count": 2,
   "id": "13271ed8-24fb-4ff3-a743-d08a24224257",
   "metadata": {},
   "outputs": [
    {
     "name": "stderr",
     "output_type": "stream",
     "text": [
      "/home/ubuntu/miniconda3/envs/peft/lib/python3.11/site-packages/tqdm/auto.py:21: TqdmWarning: IProgress not found. Please update jupyter and ipywidgets. See https://ipywidgets.readthedocs.io/en/stable/user_install.html\n",
      "  from .autonotebook import tqdm as notebook_tqdm\n"
     ]
    },
    {
     "data": {
      "text/plain": [
       "{'client_id': '76f387ba64e0573bb44ee811dbf188dd4c709b4d381037918df4e92f1c15b4d2facd3364a1e7637570a4c3f070bce59c343c3c02cea1d0961a2a1a2f07a83855',\n",
       " 'path': '/home/ubuntu/.cache/huggingface/datasets/downloads/extracted/e76b6ae3c3393d1b767bd4b11b0474d1492824e54a628f677acab8bd804eb3b7/de_train_0/common_voice_de_17545785.mp3',\n",
       " 'audio': {'path': '/home/ubuntu/.cache/huggingface/datasets/downloads/extracted/e76b6ae3c3393d1b767bd4b11b0474d1492824e54a628f677acab8bd804eb3b7/de_train_0/common_voice_de_17545785.mp3',\n",
       "  'array': array([ 0.00000000e+00,  1.24747984e-15,  5.81673830e-16, ...,\n",
       "         -2.68243544e-12,  4.79715642e-11,  5.84051973e-11]),\n",
       "  'sampling_rate': 48000},\n",
       " 'sentence': 'Wo ist denn die Fernbedienung?',\n",
       " 'up_votes': 2,\n",
       " 'down_votes': 0,\n",
       " 'age': 'thirties',\n",
       " 'gender': 'male',\n",
       " 'accent': 'Deutschland Deutsch',\n",
       " 'locale': 'de',\n",
       " 'segment': ''}"
      ]
     },
     "execution_count": 2,
     "metadata": {},
     "output_type": "execute_result"
    }
   ],
   "source": [
    "from datasets import load_dataset, DatasetDict\n",
    "common_voice = DatasetDict()\n",
    "\n",
    "common_voice[\"train\"] = load_dataset(dataset_name, language_abbr, split=\"train\", trust_remote_code=True)\n",
    "common_voice[\"validation\"] = load_dataset(dataset_name, language_abbr, split=\"validation\", trust_remote_code=True)\n",
    "\n",
    "common_voice[\"train\"][0]"
   ]
  },
  {
   "cell_type": "code",
   "execution_count": null,
   "id": "e23c665e-1bff-453b-96e7-49806a0fe833",
   "metadata": {},
   "outputs": [],
   "source": []
  }
 ],
 "metadata": {
  "kernelspec": {
   "display_name": "Python 3 (ipykernel)",
   "language": "python",
   "name": "python3"
  },
  "language_info": {
   "codemirror_mode": {
    "name": "ipython",
    "version": 3
   },
   "file_extension": ".py",
   "mimetype": "text/x-python",
   "name": "python",
   "nbconvert_exporter": "python",
   "pygments_lexer": "ipython3",
   "version": "3.11.9"
  }
 },
 "nbformat": 4,
 "nbformat_minor": 5
}
